{
 "cells": [
  {
   "cell_type": "markdown",
   "id": "understood-lingerie",
   "metadata": {},
   "source": [
    "# Big Data and Data Analytics - Lab Project 3\n",
    "This lab project covers the material from Lectures 1-7. Please make yourself familiar with the lecture content before proceeding. We will be using the [**Boston**](https://www.cs.toronto.edu/~delve/data/boston/bostonDetail.html) housing dataset courtesy of D. Harrison and D. L. Rubinfeld at the University of Toronto.\n",
    "\n",
    "**<u>How to complete</u>**:\n",
    "- For each exercise, read the objective and hint, and then fill the cells containing **TODO**. These will usually be code cells requiring you to write Python code. If we ask you to explain something in your own words, these may also be Markdown cells.\n",
    "- Do not modify any cells except for the ones containing **TODO**.\n",
    "- Do not add or delete any cells from the notebook. If you add any cells during your work, please remove them before submitting.\n",
    "- Allowed libraries are imported below. No additional libraries may be used for this lab project.\n",
    "- **Run all cells before submitting. You will only get marks for code that has been run, and has not produced any errors.**"
   ]
  },
  {
   "cell_type": "code",
   "execution_count": 5,
   "id": "coral-legislature",
   "metadata": {},
   "outputs": [],
   "source": [
    "import pandas as pd\n",
    "import numpy as np\n",
    "import matplotlib.pyplot as plt\n",
    "import statsmodels.formula.api as smf"
   ]
  },
  {
   "cell_type": "markdown",
   "id": "located-april",
   "metadata": {},
   "source": [
    "If there are any errors during the import above, you may need to install the allowed libraries."
   ]
  },
  {
   "cell_type": "markdown",
   "id": "dense-torture",
   "metadata": {},
   "source": [
    "## Exercise 1: Dataset Import and Preparation "
   ]
  },
  {
   "cell_type": "markdown",
   "id": "annual-moore",
   "metadata": {},
   "source": [
    "### Exercise 1.1 \n",
    "- Load the dataset `Housing.csv` into a pandas `DataFrame` named `df_housing`.\n",
    "- Investigate whether there are rows affected by missing values in `df_housing` and `print` your results to the console. If any rows are affected by missing values, remove these from `df_housing`.\n",
    "\n",
    "Hint: Look at the functions [`pd.read_csv`](https://pandas.pydata.org/pandas-docs/stable/reference/api/pandas.read_csv.html), [`pd.isnull`](https://pandas.pydata.org/docs/reference/api/pandas.isnull.html) and [`pd.DataFrame.any`](https://pandas.pydata.org/docs/reference/api/pandas.DataFrame.any.html)."
   ]
  },
  {
   "cell_type": "code",
   "execution_count": 6,
   "id": "turkish-living",
   "metadata": {},
   "outputs": [
    {
     "name": "stdout",
     "output_type": "stream",
     "text": [
      "False\n"
     ]
    }
   ],
   "source": [
    "# Load the dataset Housing.csv into a pandas DataFrame named df_housing.\n",
    "df_housing = pd.read_csv(\"Housing.csv\", na_values='?')\n",
    "print(df_housing.isnull().values.any())\n"
   ]
  },
  {
   "cell_type": "markdown",
   "id": "architectural-roads",
   "metadata": {},
   "source": [
    "## Exercise 2: Regression "
   ]
  },
  {
   "cell_type": "markdown",
   "id": "ranging-laptop",
   "metadata": {},
   "source": [
    "### Exercise 2.1 \n",
    "- Perform a multiple linear regression that regresses `MEDV` on `CRIM` (per capita crime rate by town), `RM` (average number of rooms per dwelling), `NOX` (nitric oxides concentration; parts per 10 million), `DIS` (weighted distances to five Boston employment centres), and `AGE` (proportion of owner- occupied units built prior to 1940). Save the model as `res_1`.\n",
    "- `print` the results of the regression `res_1` to the console (including a regression table and reporting of F-values).\n",
    "- Interpret the results of the regression `res_1` in your own words according to APA style. This includes which parts of the model are significant and what impact they have on `MEDV`.\n",
    "\n",
    "Hint: Use [`statsmodels.formula.api.ols`](https://www.statsmodels.org/stable/generated/statsmodels.formula.api.ols.html#statsmodels.formula.api.ols) to perform the regression. `statsmodels.formula.api` has been imported above as `smf`."
   ]
  },
  {
   "cell_type": "code",
   "execution_count": 7,
   "id": "equal-outline",
   "metadata": {
    "scrolled": true
   },
   "outputs": [
    {
     "name": "stdout",
     "output_type": "stream",
     "text": [
      "                            OLS Regression Results                            \n",
      "==============================================================================\n",
      "Dep. Variable:                   MEDV   R-squared:                       0.592\n",
      "Model:                            OLS   Adj. R-squared:                  0.588\n",
      "Method:                 Least Squares   F-statistic:                     145.3\n",
      "Date:                Thu, 17 Mar 2022   Prob (F-statistic):           5.02e-95\n",
      "Time:                        14:52:06   Log-Likelihood:                -1613.2\n",
      "No. Observations:                 506   AIC:                             3238.\n",
      "Df Residuals:                     500   BIC:                             3264.\n",
      "Df Model:                           5                                         \n",
      "Covariance Type:            nonrobust                                         \n",
      "==============================================================================\n",
      "                 coef    std err          t      P>|t|      [0.025      0.975]\n",
      "------------------------------------------------------------------------------\n",
      "Intercept     -6.2273      4.015     -1.551      0.122     -14.115       1.660\n",
      "CRIM          -0.2081      0.034     -6.113      0.000      -0.275      -0.141\n",
      "RM             7.7353      0.395     19.562      0.000       6.958       8.512\n",
      "NOX          -18.0509      3.947     -4.573      0.000     -25.806     -10.296\n",
      "DIS           -1.1910      0.217     -5.495      0.000      -1.617      -0.765\n",
      "AGE           -0.0666      0.015     -4.400      0.000      -0.096      -0.037\n",
      "==============================================================================\n",
      "Omnibus:                      224.972   Durbin-Watson:                   0.772\n",
      "Prob(Omnibus):                  0.000   Jarque-Bera (JB):             1646.316\n",
      "Skew:                           1.781   Prob(JB):                         0.00\n",
      "Kurtosis:                      11.087   Cond. No.                     1.46e+03\n",
      "==============================================================================\n",
      "\n",
      "Notes:\n",
      "[1] Standard Errors assume that the covariance matrix of the errors is correctly specified.\n",
      "[2] The condition number is large, 1.46e+03. This might indicate that there are\n",
      "strong multicollinearity or other numerical problems.\n"
     ]
    }
   ],
   "source": [
    "MOD_1 = smf.ols('MEDV ~ CRIM + RM + NOX + DIS + AGE', data=df_housing) # Define model\n",
    "res_1 = MOD_1.fit() # Fit using OLS\n",
    "print(res_1.summary()) # Print full summary\n"
   ]
  },
  {
   "cell_type": "markdown",
   "id": "informative-athletics",
   "metadata": {},
   "source": [
    "The regression results show a very interesting situation, with a non statistically significant Intercept p-value=0.122. In this case it makes sense, considering the housing dataset when all the predictor variables are equal to zero the MEDV (Median value of owner-occupied homes) would be negative and this is not possible. All predictor variables are statistically significant (F-statistic: 145.3, p-value<0.001). \n",
    "\n",
    "In this case, when all predictors are held constant, increasing CRIM (per capita crime rate by town) by one unit would decrease the MEDV on average by \\\\$208.10. \n",
    "On the other hand, increasing the average number of rooms per dwelling (RM) by one unit, when all the other variables are fixed will increase the MEDV on average by  \\\\$7,735.30. \n",
    "When the nitric oxides concentration (NOX), increases by 1 (part per 10 million) and all the others predictors are held constant the MEDV decreases on average by \\\\$18,050.00. The same happens to DIS (the weighted distances to five Boston employment centres) when all the other predictors are held fixed, a one unit increase in DIS, MEDV decreases on average by \\\\$ 1,191.00 and Age when all the other predictors are held constant one year increase in Age will decrease MEDV on average by \\\\$66.60.    "
   ]
  },
  {
   "cell_type": "markdown",
   "id": "confidential-avenue",
   "metadata": {},
   "source": [
    "### Exercise 2.2 \n",
    "- Add a new categorical column to `df_housing` called `NOXCAT`. This column categorizes the suburbs into towns with `LOW`, `MEDIUM`, and `HIGH` nitric oxides concentration (based on the variable `NOX`). The categorization should be based on quantiles of `NOX` as follows:\n",
    "    - LOW (NOX <= 30% quantile)\n",
    "    - MEDIUM (> 30% quantile; <= 70% quantile)\n",
    "    - HIGH (> 70% quantile).\n",
    "- Create a boxplot that shows `MEDV` for the different values of `NOXCAT` (`LOW`, `MEDIUM`, `HIGH`). Use appropriate titels for the plot and its axes. \n",
    "\n",
    "Hint: You can use either numpy [`np.quantile`](https://numpy.org/doc/stable/reference/generated/numpy.quantile.html) or pandas [`pd.DataFrame.quantile`](https://pandas.pydata.org/docs/reference/api/pandas.DataFrame.quantile.html) to compute the quantiles. Besides that, hints from previous exercises/lab projects may be helpful."
   ]
  },
  {
   "cell_type": "code",
   "execution_count": 8,
   "id": "monetary-weather",
   "metadata": {
    "scrolled": true
   },
   "outputs": [
    {
     "data": {
      "image/png": "[encoded data removed]",
      "text/plain": [
       "<Figure size 576x720 with 1 Axes>"
      ]
     },
     "metadata": {
      "needs_background": "light"
     },
     "output_type": "display_data"
    }
   ],
   "source": [
    "# Add a new categorical column to df_housing called NOXCAT\n",
    "df_housing['NOXCAT'] = pd.cut(df_housing['NOX'], bins=np.quantile(df_housing['NOX'], [0, .3, .7, 1]), labels=['Low','Medium','High'])\n",
    "\n",
    "#Create a boxplot that shows MEDV for the different values of NOXCAT (LOW, MEDIUM, HIGH)\n",
    "plotlabels = ['Low','Medium', 'High']\n",
    "plotdata = [df_housing[df_housing['NOXCAT']==label]['MEDV'] for label in plotlabels]\n",
    "plt.figure(figsize=(8, 10))\n",
    "plt.boxplot(plotdata, widths=0.5, zorder=3, labels=plotlabels) \n",
    "plt.xlabel('NOXCAT') # Set x label\n",
    "plt.ylabel('MEDV') # Set y label\n",
    "plt.title('MEDV (Median value of owner-occupied homes) by NOXCAT (nitric oxides concentration (parts per 10 million) Categories') \n",
    "plt.grid(zorder=2) \n",
    "plt.show()"
   ]
  },
  {
   "cell_type": "markdown",
   "id": "impressive-desert",
   "metadata": {},
   "source": [
    "### Exercise 2.3 \n",
    "The newly created column `NOXCAT` in `df_housing` is a categorical column with three possible values (`LOW`, `MEDIUM`, and `HIGH`). \n",
    "- Create a set of dummy variables (for different values of `NOXCAT`).\n",
    "- Regress `MEDV` on the different `NOX` categories using the dummy variables. Choose the dummy variable coding in your regression such that the intercept reflects the `MEDV` value of suburbs in the `MEDIUM` category. Save the regression result as `res_2` and `print` the regression result to the console.\n",
    "- Report the regression results from `res_2` in your own words according to APA stype and interpret the coefficients.\n",
    "\n",
    "Hint: Look at [`pd.get_dummies`](https://pandas.pydata.org/docs/reference/api/pandas.get_dummies.html)."
   ]
  },
  {
   "cell_type": "code",
   "execution_count": 9,
   "id": "indoor-stand",
   "metadata": {
    "scrolled": false
   },
   "outputs": [
    {
     "name": "stdout",
     "output_type": "stream",
     "text": [
      "                            OLS Regression Results                            \n",
      "==============================================================================\n",
      "Dep. Variable:                   MEDV   R-squared:                       0.165\n",
      "Model:                            OLS   Adj. R-squared:                  0.162\n",
      "Method:                 Least Squares   F-statistic:                     49.85\n",
      "Date:                Thu, 17 Mar 2022   Prob (F-statistic):           1.77e-20\n",
      "Time:                        14:52:18   Log-Likelihood:                -1794.5\n",
      "No. Observations:                 506   AIC:                             3595.\n",
      "Df Residuals:                     503   BIC:                             3608.\n",
      "Df Model:                           2                                         \n",
      "Covariance Type:            nonrobust                                         \n",
      "==============================================================================\n",
      "                 coef    std err          t      P>|t|      [0.025      0.975]\n",
      "------------------------------------------------------------------------------\n",
      "Intercept     23.1910      0.594     39.055      0.000      22.024      24.358\n",
      "dummy_Low      3.6252      0.902      4.021      0.000       1.854       5.397\n",
      "dummy_High    -5.9030      0.907     -6.511      0.000      -7.684      -4.122\n",
      "==============================================================================\n",
      "Omnibus:                      181.420   Durbin-Watson:                   0.649\n",
      "Prob(Omnibus):                  0.000   Jarque-Bera (JB):              523.320\n",
      "Skew:                           1.755   Prob(JB):                    2.30e-114\n",
      "Kurtosis:                       6.536   Cond. No.                         3.47\n",
      "==============================================================================\n",
      "\n",
      "Notes:\n",
      "[1] Standard Errors assume that the covariance matrix of the errors is correctly specified.\n"
     ]
    }
   ],
   "source": [
    "#Create a set of dummy variables (for different values of NOXCAT).\n",
    "df_housing = pd.concat([df_housing, pd.get_dummies(df_housing['NOXCAT'], prefix=\"dummy\")], axis=1)\n",
    "\n",
    "mod_2 = smf.ols('MEDV ~ dummy_Low + dummy_High', data=df_housing) # Define model\n",
    "res_2 = mod_2.fit() # Fit using OLS\n",
    "print(res_2.summary())"
   ]
  },
  {
   "cell_type": "markdown",
   "id": "atlantic-junior",
   "metadata": {},
   "source": [
    "The regression results show all coefficients have a zero (or very small) p-value = 0.000, confirming they are statistically significant (F-statistic = 49.85). We can interpret that these differences are a real effect and not by chance.\n",
    "\n",
    "The Intercept or $\\hat{\\beta}_{0}$, when all the dummy variables (Low and High) are equal to zero,  we interpret as the average MEDV for Medium NOXCAT (= \\\\$23,191.00). \n",
    "\n",
    "$\\hat{\\beta}_{1}$ = 3.6252, when the dummy_Low is equal to one and the dummy_High is equal to zero  ($\\hat{\\beta}_{0} + \\hat{\\beta}_{1}$) we interprete as the average MEDV for Low NOXCAT (\\\\$23,191.00+\\\\$3,625.20 = \\\\$26,816.20). \n",
    "\n",
    "$\\hat{\\beta}_{2}$ = -5.9030, when the dummy_High is equal to one and the dummy_Low is equal to zero ($\\hat{\\beta}_{0} + \\hat{\\beta}_{2}$) we interprete as the average MEDV for High NOXCAT (\\\\$23,191.00-\\\\$5,903.00 = \\\\$17,288.00)."
   ]
  },
  {
   "cell_type": "markdown",
   "id": "fa8b341b",
   "metadata": {},
   "source": [
    "## Exercise 3 : Classification"
   ]
  },
  {
   "cell_type": "markdown",
   "id": "bright-general",
   "metadata": {},
   "source": [
    "### Exercise 3.1 \n",
    "- Create a new numerical column called `MEDVBIN` in `df_housing`. The column takes on the value `1` if `MEDV` is greater than the median of `MEDV`. Otherwise, it takes on the value `0`.\n",
    "- Perform a logistic regression that regresses the newly created column `MEDVBIN` on `CRIM`, `RM`, `NOX`, `DIS` and `AGE` in order to predict the probability that a house has a high `MEDV`. Save the regression results as `res_3` and `print` the results to the console.\n",
    "- Report the results of the logistic regression `res_3` in APA style, including reporting of AIC, and then interpret the coefficients in your own words. How are this regression and its results different from `res_1` done in Exercise 2.1?\n",
    "\n",
    "Hint: Use [`statsmodels.formula.api.logit`](https://www.statsmodels.org/stable/generated/statsmodels.formula.api.logit.html) to perform the regression."
   ]
  },
  {
   "cell_type": "code",
   "execution_count": 10,
   "id": "racial-cowboy",
   "metadata": {
    "scrolled": false
   },
   "outputs": [
    {
     "name": "stdout",
     "output_type": "stream",
     "text": [
      "Optimization terminated successfully.\n",
      "         Current function value: 0.388677\n",
      "         Iterations 8\n",
      "                           Logit Regression Results                           \n",
      "==============================================================================\n",
      "Dep. Variable:                MEDVBIN   No. Observations:                  506\n",
      "Model:                          Logit   Df Residuals:                      500\n",
      "Method:                           MLE   Df Model:                            5\n",
      "Date:                Thu, 17 Mar 2022   Pseudo R-squ.:                  0.4392\n",
      "Time:                        14:52:23   Log-Likelihood:                -196.67\n",
      "converged:                       True   LL-Null:                       -350.72\n",
      "Covariance Type:            nonrobust   LLR p-value:                 1.823e-64\n",
      "==============================================================================\n",
      "                 coef    std err          z      P>|z|      [0.025      0.975]\n",
      "------------------------------------------------------------------------------\n",
      "Intercept     -9.8202      2.459     -3.993      0.000     -14.641      -5.000\n",
      "CRIM          -0.1686      0.046     -3.677      0.000      -0.258      -0.079\n",
      "RM             2.7750      0.343      8.083      0.000       2.102       3.448\n",
      "NOX           -3.4629      2.174     -1.593      0.111      -7.723       0.797\n",
      "DIS           -0.4725      0.101     -4.668      0.000      -0.671      -0.274\n",
      "AGE           -0.0488      0.008     -6.020      0.000      -0.065      -0.033\n",
      "==============================================================================\n",
      "log-lik.=-196.67, AIC=405.34\n"
     ]
    }
   ],
   "source": [
    "#Create a new numerical column called MEDVBIN in df_housing. The column takes on the value 1 if MEDV is greater than the median of MEDV. Otherwise, it takes on the value 0.\n",
    "df_housing['MEDVBIN'] = [0 if MEDVBIN < df_housing['MEDV'].median() else 1 for MEDVBIN in df_housing['MEDV']]\n",
    "\n",
    "#Perform a logistic regression\n",
    "mod_3 = smf.logit('MEDVBIN ~ CRIM + RM + NOX + DIS + AGE', data=df_housing) # Model\n",
    "res_3 = mod_3.fit() # Fit using MLE\n",
    "print(res_3.summary()) # Print full summary\n",
    "\n",
    "print(\"log-lik.={:.2f}, AIC={:.2f}\".format(res_3.llf, res_3.aic))"
   ]
  },
  {
   "cell_type": "markdown",
   "id": "prescribed-spare",
   "metadata": {},
   "source": [
    "The Logistic regression results show a very small p-value = 0.000 for the variables CRIM (per capita crime rate by town), RM (average number of rooms per dwelling) , DIS (weighted distances to five Boston employment centres) and AGE (proportion of owner-occupied units built prior to 1940), which in this case make sence and indicate that each of these variables are statistically signifincant with the probability of high MEDV, and reject the null hypothesis. The only exception was NOX (nitric oxides concentration (parts per 10 million)) p-value = 0.111 indicating there is no association with the probability of high MEDV. \n",
    "\n",
    "$\\hat{\\beta}_{1}$ = -0.1686 when all the other variables are held constant, a one-unit increase in CRIM (per capita crime rate by town) is associated with a decrease in the log odds of high MEDV by 0.1686 units.\n",
    "\n",
    "$\\hat{\\beta}_{2}$ = 2.7750 when all the other variables are held constant, a one-unit increase in RM (average number of rooms per dwelling) is associated with an increase in the log odds of high MEDV by 2.775 units.\n",
    "\n",
    "$\\hat{\\beta}_{3}$ = -3.4629 is negative and would decrease the log odds of high MEDV when all the other variables are fixed values, however it is not statistically significant. \n",
    "\n",
    "$\\hat{\\beta}_{4}$ = -0.4725 when all the other variables values are fixed, a one-unit increase in DIS (weighted distances to five Boston employment centres) is associated with a decrease in the log odds of high MEDV by 0.4725  units.\n",
    "\n",
    "$\\hat{\\beta}_{5}$ = -0.0488 when all the other variables are held constant, a one-unit increase in AGE (proportion of owner-occupied units built prior to 1940) is associated with a drecrease in the log odds of high MEDV by 0.0488 units. \n",
    "\n",
    "The logistic regression results when compared to the previous linear model show a decrease in R^2=0.4392. The association effect of each variable is similar, where CRIM, DIS, and AGE decreases the value of MEDV and RM increases MEDV. However the variable NOX in the linear model is statistically significant.    "
   ]
  },
  {
   "cell_type": "markdown",
   "id": "general-syndrome",
   "metadata": {},
   "source": [
    "### Exercise 3.2 \n",
    "Continue from the results `res_3` from the previous exercise by considering the first example listed in `df_housing` (index 0).\n",
    "- Based on the logistic regression model, how likely is it that this house has a `HIGH` `MEDV`? Use the model coefficient estimates and the corresponding values for the first example to calculate its logit and odds. `print` the logits and odds to the console.\n",
    "- What `MEDVBIN` would be predicted for this first example by the model? Look at the actual `MEDVBIN` of this house and describe in your own words how well the model performed in this case.\n",
    "\n",
    "Hint: You can access the coefficient estimates using the [`params`](https://www.statsmodels.org/stable/generated/statsmodels.discrete.discrete_model.BinaryResults.html) attribute of your fitted model."
   ]
  },
  {
   "cell_type": "code",
   "execution_count": 29,
   "id": "4aae3833",
   "metadata": {
    "scrolled": true
   },
   "outputs": [
    {
     "data": {
      "text/html": [
       "<div>\n",
       "<style scoped>\n",
       "    .dataframe tbody tr th:only-of-type {\n",
       "        vertical-align: middle;\n",
       "    }\n",
       "\n",
       "    .dataframe tbody tr th {\n",
       "        vertical-align: top;\n",
       "    }\n",
       "\n",
       "    .dataframe thead th {\n",
       "        text-align: right;\n",
       "    }\n",
       "</style>\n",
       "<table border=\"1\" class=\"dataframe\">\n",
       "  <thead>\n",
       "    <tr style=\"text-align: right;\">\n",
       "      <th></th>\n",
       "      <th>ID</th>\n",
       "      <th>CRIM</th>\n",
       "      <th>ZN</th>\n",
       "      <th>INDUS</th>\n",
       "      <th>CHAS</th>\n",
       "      <th>NOX</th>\n",
       "      <th>RM</th>\n",
       "      <th>AGE</th>\n",
       "      <th>DIS</th>\n",
       "      <th>RAD</th>\n",
       "      <th>TAX</th>\n",
       "      <th>PTRATIO</th>\n",
       "      <th>LSTAT</th>\n",
       "      <th>MEDV</th>\n",
       "      <th>NOXCAT</th>\n",
       "      <th>dummy_Low</th>\n",
       "      <th>dummy_Medium</th>\n",
       "      <th>dummy_High</th>\n",
       "      <th>MEDVBIN</th>\n",
       "    </tr>\n",
       "  </thead>\n",
       "  <tbody>\n",
       "    <tr>\n",
       "      <th>0</th>\n",
       "      <td>1</td>\n",
       "      <td>0.00632</td>\n",
       "      <td>18.0</td>\n",
       "      <td>2.31</td>\n",
       "      <td>0</td>\n",
       "      <td>0.538</td>\n",
       "      <td>6.575</td>\n",
       "      <td>65.2</td>\n",
       "      <td>4.09</td>\n",
       "      <td>1</td>\n",
       "      <td>296</td>\n",
       "      <td>15.3</td>\n",
       "      <td>4.98</td>\n",
       "      <td>24.0</td>\n",
       "      <td>Medium</td>\n",
       "      <td>0</td>\n",
       "      <td>1</td>\n",
       "      <td>0</td>\n",
       "      <td>1</td>\n",
       "    </tr>\n",
       "  </tbody>\n",
       "</table>\n",
       "</div>"
      ],
      "text/plain": [
       "   ID     CRIM    ZN  INDUS  CHAS    NOX     RM   AGE   DIS  RAD  TAX  \\\n",
       "0   1  0.00632  18.0   2.31     0  0.538  6.575  65.2  4.09    1  296   \n",
       "\n",
       "   PTRATIO  LSTAT  MEDV  NOXCAT  dummy_Low  dummy_Medium  dummy_High  MEDVBIN  \n",
       "0     15.3   4.98  24.0  Medium          0             1           0        1  "
      ]
     },
     "execution_count": 29,
     "metadata": {},
     "output_type": "execute_result"
    }
   ],
   "source": [
    "# Checking the first house variables(index 0)\n",
    "df_housing.head(1)"
   ]
  },
  {
   "cell_type": "code",
   "execution_count": 28,
   "id": "00f34f90",
   "metadata": {},
   "outputs": [
    {
     "name": "stdout",
     "output_type": "stream",
     "text": [
      "Intercept     0.000054\n",
      "CRIM          0.844843\n",
      "RM           16.038789\n",
      "NOX           0.031338\n",
      "DIS           0.623421\n",
      "AGE           0.952343\n",
      "dtype: float64\n",
      "0    0.809226\n",
      "dtype: float64\n"
     ]
    }
   ],
   "source": [
    "# print the logits and odds to the console\n",
    "print(np.exp(res_3.params))\n",
    "print(res_3.predict(df_housing[:1]))"
   ]
  },
  {
   "cell_type": "markdown",
   "id": "ambient-germany",
   "metadata": {},
   "source": [
    "Based on the logistic regression model this house (index 0) has a probability of around 81% to have a High MEDV. \n",
    "The model would have predicted a MEDVBIN = 1, if we assumed that more than 50% means High MEDV. In this case we could say the model performed well as the first house MEDVBIN = 1. However, we are using the same training data to test the model and it can potentially cause an overfitting problem with this model.  "
   ]
  },
  {
   "cell_type": "markdown",
   "id": "continuous-reasoning",
   "metadata": {},
   "source": [
    "### Exercise 3.3 \n",
    "We would like to know not only how well the logistic regression model `res_3` did for the first example, but for our entire dataset.\n",
    "- Use `res_3` to predict the probabilities of `MEDVBIN` being `1`, and save them as a new column `MEDVBIN_PROB` in `df_housing`.\n",
    "- Generate the actual model predictions as a new column `MEDVBIN_PRED` in `df_housing` by setting them to `1` if the predicted probability `MEDVBIN_PROB` is greater than `0.5`, and to `0` otherwise. \n",
    "- Create a confusion matrix `conf_mat` for the results generated by `res_3` to tabulate the predictions `MEDVBIN_PRED` and actual values `MEDVBIN`. `print` `conf_mat` to the console.\n",
    "- Based on `conf_mat`, calculate sensitivity, specificity, and accuracy. `print` these values to the console as a grammatically correct sentence.\n",
    "- In you own words, interpret sensitivity, specificity, and accuracy.\n",
    "\n",
    "Hint: Look at the [`predict`](https://www.statsmodels.org/stable/generated/statsmodels.discrete.discrete_model.BinaryResults.html) method of your fitted model for generating the predictions. Also look at [`pd.crosstab`](https://pandas.pydata.org/docs/reference/api/pandas.crosstab.html)."
   ]
  },
  {
   "cell_type": "code",
   "execution_count": 110,
   "id": "vocal-brown",
   "metadata": {
    "scrolled": true
   },
   "outputs": [
    {
     "name": "stdout",
     "output_type": "stream",
     "text": [
      "Actual       0    1  All\n",
      "Predicted               \n",
      "0          215   43  258\n",
      "1           36  212  248\n",
      "All        251  255  506\n",
      "Sensitivity=83.14%; Specificity=85.66%; Accuracy=84.39%\n"
     ]
    }
   ],
   "source": [
    "df_housing['MEDVBIN_PROB'] = res_3.predict(df_housing[['CRIM', 'RM', 'NOX', 'DIS', 'AGE']]) \n",
    "df_housing['MEDVBIN_PRED'] = df_housing['MEDVBIN_PROB'].apply(lambda x: np.where(x > 0.5, 1, 0))\n",
    "\n",
    "conf_mat = pd.crosstab(df_housing['MEDVBIN_PRED'], df_housing['MEDVBIN'], rownames=['Predicted'], colnames=['Actual'], margins=True)\n",
    "print(conf_mat)\n",
    "\n",
    "sensitivity = conf_mat.loc[1, 1]/conf_mat.loc['All', 1]\n",
    "specificity = conf_mat.loc[0, 0]/conf_mat.loc['All', 0]\n",
    "accuracy = (conf_mat.loc[1, 1]+conf_mat.loc[0, 0])/conf_mat.loc['All','All']\n",
    "print(\"Sensitivity={:.2f}%; Specificity={:.2f}%; Accuracy={:.2f}%\".format(sensitivity*100, specificity*100,accuracy*100))"
   ]
  },
  {
   "cell_type": "markdown",
   "id": "domestic-handbook",
   "metadata": {},
   "source": [
    "In this case a high Sensitivity is the result of the ratio of positive cases that the classifier correctly identified as positive (212/255 = 81.14%.) \n",
    "\n",
    "The Specificity result is also considerable high and represents the ratio of negative cases that the classifier correctly identified as negative. (215/251 = 85.66%.)\n",
    "\n",
    "The model Accuracy is the total number of predictions that were correct classified. In this case, (215+212)/506 = 84.39%"
   ]
  },
  {
   "cell_type": "code",
   "execution_count": null,
   "id": "c6f6079a",
   "metadata": {},
   "outputs": [],
   "source": []
  }
 ],
 "metadata": {
  "kernelspec": {
   "display_name": "Python 3",
   "language": "python",
   "name": "python3"
  },
  "language_info": {
   "codemirror_mode": {
    "name": "ipython",
    "version": 3
   },
   "file_extension": ".py",
   "mimetype": "text/x-python",
   "name": "python",
   "nbconvert_exporter": "python",
   "pygments_lexer": "ipython3",
   "version": "3.8.8"
  }
 },
 "nbformat": 4,
 "nbformat_minor": 5
}
